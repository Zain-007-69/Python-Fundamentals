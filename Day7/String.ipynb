{
 "cells": [
  {
   "cell_type": "markdown",
   "metadata": {},
   "source": [
    "# Strings and its functions in Python"
   ]
  },
  {
   "cell_type": "markdown",
   "metadata": {},
   "source": [
    "Strings in Python are sequences of characters and are one of the fundamental data types. They are used to represent text and are immutable, meaning once a string is created, it cannot be changed. In Python, strings are enclosed in either single quotes `(')` or double quotes `(\")`."
   ]
  },
  {
   "cell_type": "code",
   "execution_count": 1,
   "metadata": {},
   "outputs": [],
   "source": [
    "single_quoted = 'Hello, World!'\n",
    "double_quoted = \"Python Programming\""
   ]
  },
  {
   "cell_type": "markdown",
   "metadata": {},
   "source": [
    "### **Common String Operations and Functions:**\n",
    "**1.Concatenation:**\n",
    "\n",
    "Combining two or more strings."
   ]
  },
  {
   "cell_type": "code",
   "execution_count": 2,
   "metadata": {},
   "outputs": [],
   "source": [
    "str1 = \"Hello\"\n",
    "str2 = \"World\"\n",
    "result = str1 + \", \" + str2"
   ]
  },
  {
   "cell_type": "markdown",
   "metadata": {},
   "source": [
    "### **2.Indexing:**\n",
    "\n",
    "Accessing individual characters using index."
   ]
  },
  {
   "cell_type": "code",
   "execution_count": 3,
   "metadata": {},
   "outputs": [],
   "source": [
    "my_string = \"Python\"\n",
    "first_char = my_string[0]  # 'P'"
   ]
  },
  {
   "cell_type": "markdown",
   "metadata": {},
   "source": [
    "### **3.Slicing:**\n",
    "\n",
    "Extracting a portion of a string."
   ]
  },
  {
   "cell_type": "code",
   "execution_count": 4,
   "metadata": {},
   "outputs": [],
   "source": [
    "my_string = \"Python\"\n",
    "substring = my_string[1:4]  # 'yth'"
   ]
  },
  {
   "cell_type": "markdown",
   "metadata": {},
   "source": [
    "### **4.Length:**\n",
    "\n",
    "Getting the length of a string."
   ]
  },
  {
   "cell_type": "code",
   "execution_count": 5,
   "metadata": {},
   "outputs": [],
   "source": [
    "my_string = \"Python\"\n",
    "length = len(my_string)  # 6"
   ]
  },
  {
   "cell_type": "markdown",
   "metadata": {},
   "source": [
    "### **5.Lowercase and Uppercase:**\n",
    "\n",
    "Converting a string to lowercase or uppercase."
   ]
  },
  {
   "cell_type": "code",
   "execution_count": 6,
   "metadata": {},
   "outputs": [],
   "source": [
    "my_string = \"Hello, World!\"\n",
    "lower_case = my_string.lower()\n",
    "upper_case = my_string.upper()"
   ]
  },
  {
   "cell_type": "markdown",
   "metadata": {},
   "source": [
    "### **6.Strip:**\n",
    "\n",
    "Removing leading and trailing whitespaces."
   ]
  },
  {
   "cell_type": "code",
   "execution_count": 7,
   "metadata": {},
   "outputs": [],
   "source": [
    "my_string = \"   Python   \"\n",
    "stripped_string = my_string.strip()"
   ]
  },
  {
   "cell_type": "markdown",
   "metadata": {},
   "source": [
    "### **7.Replace:**\n",
    "\n",
    "Replacing a substring with another substring."
   ]
  },
  {
   "cell_type": "code",
   "execution_count": 8,
   "metadata": {},
   "outputs": [],
   "source": [
    "my_string = \"Hello, World!\"\n",
    "new_string = my_string.replace(\"World\", \"Python\")"
   ]
  },
  {
   "cell_type": "markdown",
   "metadata": {},
   "source": [
    "### **8.Find and Count:**\n",
    "\n",
    "Finding the index of a substring and counting occurrences."
   ]
  },
  {
   "cell_type": "code",
   "execution_count": 9,
   "metadata": {},
   "outputs": [],
   "source": [
    "my_string = \"Hello, World!\"\n",
    "index = my_string.find(\"World\")  # 7\n",
    "count = my_string.count(\"l\")      # 3"
   ]
  },
  {
   "cell_type": "markdown",
   "metadata": {},
   "source": [
    "### **9.Split:**\n",
    "\n",
    "Splitting a string into a list of substrings."
   ]
  },
  {
   "cell_type": "code",
   "execution_count": 10,
   "metadata": {},
   "outputs": [],
   "source": [
    "my_string = \"Python,Java,JavaScript\"\n",
    "languages = my_string.split(\",\")"
   ]
  },
  {
   "cell_type": "markdown",
   "metadata": {},
   "source": [
    "### **10.Format:**\n",
    "\n",
    "Formatting a string using placeholders or the `format()` method."
   ]
  },
  {
   "cell_type": "code",
   "execution_count": 11,
   "metadata": {},
   "outputs": [],
   "source": [
    "name = \"Alice\"\n",
    "age = 30\n",
    "formatted_string = \"My name is {} and I am {} years old.\".format(name, age)"
   ]
  },
  {
   "cell_type": "markdown",
   "metadata": {},
   "source": [
    "### **11.String Interpolation (f-strings):**\n",
    "\n",
    "A concise way to embed expressions inside string literals."
   ]
  },
  {
   "cell_type": "code",
   "execution_count": 12,
   "metadata": {},
   "outputs": [],
   "source": [
    "name = \"Bob\"\n",
    "age = 25\n",
    "f_string = f\"My name is {name} and I am {age} years old.\""
   ]
  },
  {
   "cell_type": "markdown",
   "metadata": {},
   "source": [
    "### **12.Checking Substrings:**\n",
    "\n",
    "Checking if a string starts or ends with a particular substring."
   ]
  },
  {
   "cell_type": "code",
   "execution_count": 13,
   "metadata": {},
   "outputs": [],
   "source": [
    "my_string = \"Hello, World!\"\n",
    "starts_with_hello = my_string.startswith(\"Hello\")  # True\n",
    "ends_with_world = my_string.endswith(\"World\")      # False"
   ]
  },
  {
   "cell_type": "markdown",
   "metadata": {},
   "source": [
    "### **13.Join:**\n",
    "\n",
    "Concatenating elements of an iterable into a single string."
   ]
  },
  {
   "cell_type": "code",
   "execution_count": 14,
   "metadata": {},
   "outputs": [],
   "source": [
    "words = [\"Hello\", \"World\", \"Python\"]\n",
    "joined_string = \" \".join(words)  # 'Hello World Python'"
   ]
  },
  {
   "cell_type": "markdown",
   "metadata": {},
   "source": [
    "Escape Characters:\n",
    "Python uses escape characters to represent special characters within a string. Some common escape characters include:\n",
    "\n",
    "`\\n`: Newline\n",
    "\n",
    "`\\t`: Tab\n",
    "\n",
    "`\\\\`: Backslash\n",
    "\n",
    "`\\'`: Single quote\n",
    "\n",
    "`\\\"`: Double quote"
   ]
  },
  {
   "cell_type": "markdown",
   "metadata": {},
   "source": [
    "### **Conclusion:**\n",
    "Understanding string operations and functions is crucial for working with text data in Python. Whether it's manipulating, searching, or formatting strings, the knowledge of these functions is essential for effective programming. Strings are versatile, and mastering their operations opens up a wide range of possibilities in Python development."
   ]
  }
 ],
 "metadata": {
  "kernelspec": {
   "display_name": "Python 3",
   "language": "python",
   "name": "python3"
  },
  "language_info": {
   "codemirror_mode": {
    "name": "ipython",
    "version": 3
   },
   "file_extension": ".py",
   "mimetype": "text/x-python",
   "name": "python",
   "nbconvert_exporter": "python",
   "pygments_lexer": "ipython3",
   "version": "3.11.4"
  }
 },
 "nbformat": 4,
 "nbformat_minor": 2
}
