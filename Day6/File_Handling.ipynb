{
 "cells": [
  {
   "cell_type": "markdown",
   "metadata": {},
   "source": [
    "# File Handling in Python"
   ]
  },
  {
   "cell_type": "markdown",
   "metadata": {},
   "source": [
    "File handling in Python is an essential aspect of working with data. It involves reading from and writing to files, as well as handling different file formats. Let's explore these concepts in detail:"
   ]
  },
  {
   "cell_type": "markdown",
   "metadata": {},
   "source": [
    "### **Reading from Files**:\n",
    "To read from a file in Python, you can use the `open()` function to open the file and the `read()` or `readline()` methods to read its content.\n",
    "\n",
    "Example - Reading the Entire File:"
   ]
  },
  {
   "cell_type": "code",
   "execution_count": null,
   "metadata": {},
   "outputs": [],
   "source": [
    "# Open a file for reading\n",
    "with open('example.txt', 'r') as file:\n",
    "    content = file.read()\n",
    "    print(content)"
   ]
  },
  {
   "cell_type": "markdown",
   "metadata": {},
   "source": [
    "Example - Reading Line by Line:"
   ]
  },
  {
   "cell_type": "code",
   "execution_count": null,
   "metadata": {},
   "outputs": [],
   "source": [
    "# Open a file for reading\n",
    "with open('example.txt', 'r') as file:\n",
    "    for line in file.readlines():\n",
    "        print(line.strip())  # strip() removes leading and trailing whitespaces"
   ]
  },
  {
   "cell_type": "markdown",
   "metadata": {},
   "source": [
    "### **Writing to Files**:\n",
    "\n",
    "To write to a file in Python, you can use the `open()` function with the `w` or `a` mode (write or append), and then use the `write()` method to add content.\n",
    "\n",
    "Example - Writing to a File:"
   ]
  },
  {
   "cell_type": "code",
   "execution_count": 4,
   "metadata": {},
   "outputs": [],
   "source": [
    "# Open a file for writing\n",
    "with open('output.txt', 'w') as file:\n",
    "    file.write('This is a sample text.\\n')\n",
    "    file.write('Writing to a file in Python.\\n')"
   ]
  },
  {
   "cell_type": "markdown",
   "metadata": {},
   "source": [
    "### **Handling Different File Formats**:\n",
    "\n",
    "Python provides libraries for handling various file formats, such as CSV, JSON, and more.\n",
    "\n",
    "**CSV Files**:"
   ]
  },
  {
   "cell_type": "code",
   "execution_count": null,
   "metadata": {},
   "outputs": [],
   "source": [
    "import csv\n",
    "\n",
    "# Writing to a CSV file\n",
    "data = [['Name', 'Age'], ['John', 25], ['Alice', 30]]\n",
    "with open('data.csv', 'w', newline='') as csvfile:\n",
    "    csvwriter = csv.writer(csvfile)\n",
    "    csvwriter.writerows(data)\n",
    "\n",
    "# Reading from a CSV file\n",
    "with open('data.csv', 'r') as csvfile:\n",
    "    csvreader = csv.reader(csvfile)\n",
    "    for row in csvreader:\n",
    "        print(row)"
   ]
  },
  {
   "cell_type": "markdown",
   "metadata": {},
   "source": [
    "**JSON Files**:"
   ]
  },
  {
   "cell_type": "code",
   "execution_count": null,
   "metadata": {},
   "outputs": [],
   "source": [
    "import json\n",
    "\n",
    "# Writing to a JSON file\n",
    "data = {'name': 'John', 'age': 25}\n",
    "with open('data.json', 'w') as jsonfile:\n",
    "    json.dump(data, jsonfile)\n",
    "\n",
    "# Reading from a JSON file\n",
    "with open('data.json', 'r') as jsonfile:\n",
    "    loaded_data = json.load(jsonfile)\n",
    "    print(loaded_data)"
   ]
  },
  {
   "cell_type": "markdown",
   "metadata": {},
   "source": [
    "### **Binary Files**:\n",
    "\n",
    "For reading and writing binary files (e.g., images), use the `rb` (read binary) or `wb` (write binary) mode.\n",
    "\n",
    "**Example - Reading Binary File:**"
   ]
  },
  {
   "cell_type": "code",
   "execution_count": null,
   "metadata": {},
   "outputs": [],
   "source": [
    "with open('image.jpg', 'rb') as binary_file:\n",
    "    image_data = binary_file.read()\n",
    "    # Process binary data as needed"
   ]
  },
  {
   "cell_type": "markdown",
   "metadata": {},
   "source": [
    "### **Exception Handling:**\n",
    "It's important to handle exceptions when working with files to address potential errors.\n",
    "\n",
    "**Example - Exception Handling:**"
   ]
  },
  {
   "cell_type": "code",
   "execution_count": null,
   "metadata": {},
   "outputs": [],
   "source": [
    "try:\n",
    "    with open('nonexistent_file.txt', 'r') as file:\n",
    "        content = file.read()\n",
    "        print(content)\n",
    "except FileNotFoundError:\n",
    "    print(\"File not found.\")\n",
    "except Exception as e:\n",
    "    print(f\"An error occurred: {e}\")"
   ]
  },
  {
   "cell_type": "markdown",
   "metadata": {},
   "source": [
    "### **Conclusion:**\n",
    "File handling in Python is a crucial skill for working with data and managing input/output operations. Whether it's reading or writing text files, handling different file formats, or dealing with binary data, understanding file handling is fundamental for various programming tasks."
   ]
  }
 ],
 "metadata": {
  "kernelspec": {
   "display_name": "Python 3",
   "language": "python",
   "name": "python3"
  },
  "language_info": {
   "codemirror_mode": {
    "name": "ipython",
    "version": 3
   },
   "file_extension": ".py",
   "mimetype": "text/x-python",
   "name": "python",
   "nbconvert_exporter": "python",
   "pygments_lexer": "ipython3",
   "version": "3.11.4"
  }
 },
 "nbformat": 4,
 "nbformat_minor": 2
}
