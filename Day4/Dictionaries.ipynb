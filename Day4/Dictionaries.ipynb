{
 "cells": [
  {
   "cell_type": "markdown",
   "metadata": {},
   "source": [
    "# Dictionaries in python"
   ]
  },
  {
   "cell_type": "markdown",
   "metadata": {},
   "source": [
    "### Creating Dictionaries:\n",
    "\n",
    "You can create a dictionary by providing a comma-separated list of key-value pairs within curly braces.\n",
    "\n",
    "Example:"
   ]
  },
  {
   "cell_type": "code",
   "execution_count": 1,
   "metadata": {},
   "outputs": [],
   "source": [
    "my_dict = {'name': 'John', 'age': 25, 'city': 'New York'}"
   ]
  },
  {
   "cell_type": "markdown",
   "metadata": {},
   "source": [
    "### Accessing Elements:\n",
    "\n",
    "You can access the value associated with a key using square bracket notation.\n",
    "\n",
    "Example:"
   ]
  },
  {
   "cell_type": "code",
   "execution_count": 2,
   "metadata": {},
   "outputs": [
    {
     "name": "stdout",
     "output_type": "stream",
     "text": [
      "John\n",
      "25\n"
     ]
    }
   ],
   "source": [
    "print(my_dict['name'])  # Output: 'John'\n",
    "print(my_dict['age'])   # Output: 25"
   ]
  },
  {
   "cell_type": "markdown",
   "metadata": {},
   "source": [
    "### Modifying Dictionaries:\n",
    "\n",
    "Dictionaries are mutable, so you can add, modify, or remove key-value pairs.\n",
    "\n",
    "Example:"
   ]
  },
  {
   "cell_type": "code",
   "execution_count": 3,
   "metadata": {},
   "outputs": [],
   "source": [
    "# Adding a new key-value pair\n",
    "my_dict['gender'] = 'Male'\n",
    "\n",
    "# Modifying the value of an existing key\n",
    "my_dict['age'] = 26\n",
    "\n",
    "# Removing a key-value pair\n",
    "del my_dict['city']"
   ]
  },
  {
   "cell_type": "markdown",
   "metadata": {},
   "source": [
    "### Dictionary Methods:\n",
    "\n",
    "Dictionaries come with a variety of built-in methods for common operations:\n",
    "\n",
    "`get`: Returns the value associated with a key. If the key is not found, it returns a default value."
   ]
  },
  {
   "cell_type": "code",
   "execution_count": 4,
   "metadata": {},
   "outputs": [],
   "source": [
    "age = my_dict.get('age', 0)  # Returns 26 if 'age' is in the dictionary, otherwise returns 0"
   ]
  },
  {
   "cell_type": "markdown",
   "metadata": {},
   "source": [
    "`keys`: Returns a view of all keys in the dictionary."
   ]
  },
  {
   "cell_type": "code",
   "execution_count": 5,
   "metadata": {},
   "outputs": [],
   "source": [
    "keys_list = list(my_dict.keys())"
   ]
  },
  {
   "cell_type": "markdown",
   "metadata": {},
   "source": [
    "`values`: Returns a view of all values in the dictionary."
   ]
  },
  {
   "cell_type": "code",
   "execution_count": 6,
   "metadata": {},
   "outputs": [],
   "source": [
    "values_list = list(my_dict.values())"
   ]
  },
  {
   "cell_type": "markdown",
   "metadata": {},
   "source": [
    "`items`: Returns a view of all key-value pairs in the dictionary."
   ]
  },
  {
   "cell_type": "code",
   "execution_count": 7,
   "metadata": {},
   "outputs": [],
   "source": [
    "items_list = list(my_dict.items())"
   ]
  },
  {
   "cell_type": "markdown",
   "metadata": {},
   "source": [
    "`pop`: Removes the key and returns its value. If the key is not found, it raises a KeyError."
   ]
  },
  {
   "cell_type": "code",
   "execution_count": 8,
   "metadata": {},
   "outputs": [],
   "source": [
    "age = my_dict.pop('age')"
   ]
  },
  {
   "cell_type": "markdown",
   "metadata": {},
   "source": [
    "`popitem`: Removes and returns the last key-value pair as a tuple."
   ]
  },
  {
   "cell_type": "code",
   "execution_count": 9,
   "metadata": {},
   "outputs": [],
   "source": [
    "last_item = my_dict.popitem()"
   ]
  },
  {
   "cell_type": "markdown",
   "metadata": {},
   "source": [
    "`update`: Updates the dictionary with key-value pairs from another dictionary or iterable."
   ]
  },
  {
   "cell_type": "code",
   "execution_count": 10,
   "metadata": {},
   "outputs": [],
   "source": [
    "other_dict = {'country': 'USA', 'gender': 'Male'}\n",
    "my_dict.update(other_dict)"
   ]
  },
  {
   "cell_type": "markdown",
   "metadata": {},
   "source": [
    "### Nested Dictionaries:\n",
    "\n",
    "Dictionaries can be nested inside other dictionaries.\n",
    "\n",
    "Example:"
   ]
  },
  {
   "cell_type": "code",
   "execution_count": 11,
   "metadata": {},
   "outputs": [
    {
     "name": "stdout",
     "output_type": "stream",
     "text": [
      "Alice\n"
     ]
    }
   ],
   "source": [
    "nested_dict = {'person': {'name': 'Alice', 'age': 30, 'city': 'London'}}\n",
    "print(nested_dict['person']['name'])  # Output: 'Alice'"
   ]
  },
  {
   "cell_type": "markdown",
   "metadata": {},
   "source": [
    "### Use Cases for Dictionaries:\n",
    "\n",
    "Data Storage: Dictionaries are used to store and retrieve data in a key-value format.\n",
    "\n",
    "Configuration Settings: Dictionaries can represent configuration settings with meaningful keys.\n",
    "\n",
    "JSON-Like Structures: Dictionaries are similar to JSON objects and are often used to represent structured data.\n",
    "\n",
    "Counting Occurrences: Dictionaries can be used to count occurrences of elements.\n",
    "\n",
    "### Comparing Lists, Tuples, and Dictionaries:\n",
    "\n",
    "Use lists when you have an ordered collection of items.\n",
    "\n",
    "Use tuples when you want an immutable, ordered collection.\n",
    "\n",
    "Use dictionaries when you need key-value pairs for efficient data retrieval."
   ]
  }
 ],
 "metadata": {
  "kernelspec": {
   "display_name": "Python 3",
   "language": "python",
   "name": "python3"
  },
  "language_info": {
   "codemirror_mode": {
    "name": "ipython",
    "version": 3
   },
   "file_extension": ".py",
   "mimetype": "text/x-python",
   "name": "python",
   "nbconvert_exporter": "python",
   "pygments_lexer": "ipython3",
   "version": "3.11.4"
  }
 },
 "nbformat": 4,
 "nbformat_minor": 2
}
