{
 "cells": [
  {
   "cell_type": "markdown",
   "metadata": {},
   "source": [
    "# Opeartors in Python"
   ]
  },
  {
   "cell_type": "markdown",
   "metadata": {},
   "source": [
    "### 1. Arithmetic Operators:"
   ]
  },
  {
   "cell_type": "markdown",
   "metadata": {},
   "source": [
    "`+`: Addition\n",
    "\n",
    "`-`: Subtraction\n",
    "\n",
    "`*` :  Multiplication\n",
    "\n",
    "`/`: Division\n",
    "\n",
    "`%`: Modulus (remainder after division)\n",
    "\n",
    "`//`: Floor Division (result is rounded down to the nearest whole number)\n",
    "\n",
    "`**`: Exponentiation"
   ]
  },
  {
   "cell_type": "code",
   "execution_count": null,
   "metadata": {},
   "outputs": [],
   "source": [
    "a = 10\n",
    "b = 3\n",
    "\n",
    "sum_result = a + b\n",
    "difference = a - b\n",
    "product = a * b\n",
    "division = a / b\n",
    "modulus = a % b\n",
    "floor_division = a // b\n",
    "exponentiation = a ** b"
   ]
  },
  {
   "cell_type": "markdown",
   "metadata": {},
   "source": [
    "### 2. Comparison Operators:"
   ]
  },
  {
   "cell_type": "markdown",
   "metadata": {},
   "source": [
    "`==`: Equal to\n",
    "\n",
    "`!=`: Not equal to\n",
    "\n",
    "`<`: Less than\n",
    "\n",
    "`>`: Greater than\n",
    "\n",
    "`<=`: Less than or equal to\n",
    "\n",
    "`>=`: Greater than or equal to"
   ]
  },
  {
   "cell_type": "code",
   "execution_count": null,
   "metadata": {},
   "outputs": [],
   "source": [
    "x = 5\n",
    "y = 10\n",
    "\n",
    "is_equal = x == y\n",
    "not_equal = x != y\n",
    "less_than = x < y\n",
    "greater_than = x > y\n",
    "less_than_or_equal = x <= y\n",
    "greater_than_or_equal = x >= y"
   ]
  },
  {
   "cell_type": "markdown",
   "metadata": {},
   "source": [
    "### 3. Logical Operators:"
   ]
  },
  {
   "cell_type": "markdown",
   "metadata": {},
   "source": [
    "`and`: Logical AND\n",
    "\n",
    "`or`: Logical OR\n",
    "\n",
    "`not`: Logical NOT"
   ]
  },
  {
   "cell_type": "code",
   "execution_count": 1,
   "metadata": {},
   "outputs": [],
   "source": [
    "is_true = True\n",
    "is_false = False\n",
    "\n",
    "logical_and = is_true and is_false\n",
    "logical_or = is_true or is_false\n",
    "logical_not = not is_true"
   ]
  },
  {
   "cell_type": "markdown",
   "metadata": {},
   "source": [
    "### 4. Assignment Operators:"
   ]
  },
  {
   "cell_type": "markdown",
   "metadata": {},
   "source": [
    "`=`: Assignment\n",
    "\n",
    "`+=`: Add and assign\n",
    "\n",
    "`-=`: Subtract and assign\n",
    "\n",
    "`*=`: Multiply and assign\n",
    "\n",
    "`/=`: Divide and assign\n",
    "\n",
    "`%=`: Modulus and assign\n",
    "\n",
    "`//=`: Floor divide and assign\n",
    "\n",
    "`**=`: Exponentiate and assign"
   ]
  },
  {
   "cell_type": "code",
   "execution_count": null,
   "metadata": {},
   "outputs": [],
   "source": [
    "a = 5\n",
    "\n",
    "a += 2  # Equivalent to a = a + 2\n",
    "a -= 1  # Equivalent to a = a - 1\n",
    "a *= 3  # Equivalent to a = a * 3"
   ]
  },
  {
   "cell_type": "markdown",
   "metadata": {},
   "source": [
    "### 5. Membership Operators:"
   ]
  },
  {
   "cell_type": "markdown",
   "metadata": {},
   "source": [
    "`in`: True if a value is found in the specified sequence\n",
    "\n",
    "`not in`: True if a value is not found in the specified sequence"
   ]
  },
  {
   "cell_type": "code",
   "execution_count": 2,
   "metadata": {},
   "outputs": [],
   "source": [
    "my_list = [1, 2, 3]\n",
    "\n",
    "is_present = 2 in my_list\n",
    "not_present = 4 not in my_list"
   ]
  },
  {
   "cell_type": "markdown",
   "metadata": {},
   "source": [
    "### 6. Identity Operators:"
   ]
  },
  {
   "cell_type": "markdown",
   "metadata": {},
   "source": [
    "`is`: True if both variables are the same object\n",
    "\n",
    "`is not`: True if both variables are not the same object"
   ]
  },
  {
   "cell_type": "code",
   "execution_count": null,
   "metadata": {},
   "outputs": [],
   "source": [
    "x = [1, 2, 3]\n",
    "y = [1, 2, 3]\n",
    "\n",
    "same_object = x is y\n",
    "not_same_object = x is not y"
   ]
  }
 ],
 "metadata": {
  "kernelspec": {
   "display_name": "Python 3",
   "language": "python",
   "name": "python3"
  },
  "language_info": {
   "codemirror_mode": {
    "name": "ipython",
    "version": 3
   },
   "file_extension": ".py",
   "mimetype": "text/x-python",
   "name": "python",
   "nbconvert_exporter": "python",
   "pygments_lexer": "ipython3",
   "version": "3.11.4"
  }
 },
 "nbformat": 4,
 "nbformat_minor": 2
}
