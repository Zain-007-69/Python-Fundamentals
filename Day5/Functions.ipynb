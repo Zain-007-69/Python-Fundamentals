{
 "cells": [
  {
   "cell_type": "markdown",
   "metadata": {},
   "source": [
    "# Functions in Python"
   ]
  },
  {
   "cell_type": "markdown",
   "metadata": {},
   "source": [
    "A function is a block of reusable code that performs a specific task. Functions help in organizing code, promoting reusability, and making the code modular.\n",
    "\n",
    "Syntax:"
   ]
  },
  {
   "cell_type": "code",
   "execution_count": null,
   "metadata": {},
   "outputs": [],
   "source": [
    "# def function_name(parameter1, parameter2,.....):\n",
    "#     # Code to perform a task\n",
    "#     # Optional: return statement"
   ]
  },
  {
   "cell_type": "markdown",
   "metadata": {},
   "source": [
    "**Function Name**: Identifies the function.\n",
    "\n",
    "**Parameters**: Inputs to the function, specified inside the parentheses.\n",
    "\n",
    "**Code Block**: The body of the function, indented and containing the instructions to execute.\n",
    "\n",
    "**Return Statement**: Optional statement to return a value from the function."
   ]
  },
  {
   "cell_type": "markdown",
   "metadata": {},
   "source": [
    "### **Parameter Handling**:\n",
    "\n",
    "Functions can take parameters, which are the values passed to the function when it is called. There are several types of parameters:\n",
    "\n",
    "**Positional Parameters**:"
   ]
  },
  {
   "cell_type": "code",
   "execution_count": null,
   "metadata": {},
   "outputs": [],
   "source": [
    "def add(a, b):\n",
    "    return a + b\n",
    "result = add(3, 5)"
   ]
  },
  {
   "cell_type": "markdown",
   "metadata": {},
   "source": [
    "### **Default Parameters**:"
   ]
  },
  {
   "cell_type": "code",
   "execution_count": null,
   "metadata": {},
   "outputs": [],
   "source": [
    "def greet(name, greeting=\"Hello\"):\n",
    "    return f\"{greeting}, {name}!\"\n",
    "message = greet(\"Alice\")"
   ]
  },
  {
   "cell_type": "markdown",
   "metadata": {},
   "source": [
    "### **Keyword Arguments**:"
   ]
  },
  {
   "cell_type": "code",
   "execution_count": null,
   "metadata": {},
   "outputs": [],
   "source": [
    "def multiply(a, b):\n",
    "    return a * b\n",
    "result = multiply(b=4, a=2)"
   ]
  },
  {
   "cell_type": "markdown",
   "metadata": {},
   "source": [
    "### **Arbitrary Number of Parameters**:"
   ]
  },
  {
   "cell_type": "code",
   "execution_count": null,
   "metadata": {},
   "outputs": [],
   "source": [
    "def sum_all(*args):\n",
    "    return sum(args)\n",
    "total = sum_all(1, 2, 3, 4)\n",
    "\n",
    "def print_info(**kwargs):\n",
    "    for key, value in kwargs.items():\n",
    "        print(f\"{key}: {value}\")\n",
    "print_info(name=\"John\", age=25)"
   ]
  },
  {
   "cell_type": "markdown",
   "metadata": {},
   "source": [
    "### **Return Statement**:\n",
    "\n",
    "The return statement is used to send a value back from the function to the caller.\n",
    "\n",
    "**Example:**"
   ]
  },
  {
   "cell_type": "code",
   "execution_count": null,
   "metadata": {},
   "outputs": [],
   "source": [
    "def square(x):\n",
    "    return x ** 2\n",
    "\n",
    "result = square(4)  # Result is 16"
   ]
  },
  {
   "cell_type": "markdown",
   "metadata": {},
   "source": [
    "### **Scope of Variables**:\n",
    "\n",
    "Variables defined inside a function have local scope and are only accessible within that function.\n",
    "\n",
    "Variables defined outside any function have global scope and can be accessed throughout the program."
   ]
  },
  {
   "cell_type": "code",
   "execution_count": null,
   "metadata": {},
   "outputs": [],
   "source": [
    "global_variable = 10\n",
    "\n",
    "def my_function():\n",
    "    local_variable = 5\n",
    "    print(global_variable)  # Accessible\n",
    "    print(local_variable)   # Accessible\n",
    "\n",
    "my_function()\n",
    "print(global_variable)  # Accessible\n",
    "print(local_variable)   # Raises NameError (not accessible)"
   ]
  },
  {
   "cell_type": "markdown",
   "metadata": {},
   "source": [
    "### **Lambda Functions**:\n",
    "\n",
    "Lambda functions, also known as anonymous functions, are concise one-liners often used for short operations.\n",
    "\n",
    "**Example**:"
   ]
  },
  {
   "cell_type": "code",
   "execution_count": 10,
   "metadata": {},
   "outputs": [],
   "source": [
    "multiply = lambda x, y: x * y\n",
    "result = multiply(3, 4)  # Result is 12"
   ]
  },
  {
   "cell_type": "markdown",
   "metadata": {},
   "source": [
    "### **Docstrings**:\n",
    "\n",
    "Docstrings are documentation strings that provide information about a function, its parameters, and its purpose."
   ]
  },
  {
   "cell_type": "code",
   "execution_count": 11,
   "metadata": {},
   "outputs": [],
   "source": [
    "def greet(name):\n",
    "    \"\"\"\n",
    "    Greets a person by their name.\n",
    "    \n",
    "    Parameters:\n",
    "    name (str): The name of the person.\n",
    "    \n",
    "    Returns:\n",
    "    str: A greeting message.\n",
    "    \"\"\"\n",
    "    return f\"Hello, {name}!\""
   ]
  },
  {
   "cell_type": "markdown",
   "metadata": {},
   "source": [
    "### **Recursion**:\n",
    "\n",
    "A function can call itself, which is known as recursion"
   ]
  },
  {
   "cell_type": "code",
   "execution_count": 12,
   "metadata": {},
   "outputs": [],
   "source": [
    "def factorial(n):\n",
    "    if n == 0 or n == 1:\n",
    "        return 1\n",
    "    else:\n",
    "        return n * factorial(n-1)"
   ]
  },
  {
   "cell_type": "markdown",
   "metadata": {},
   "source": [
    "### **Decorators**:\n",
    "\n",
    "Decorators are a powerful feature that allows modifying or extending the behavior of functions.\n",
    "\n",
    "**Example**:"
   ]
  },
  {
   "cell_type": "code",
   "execution_count": 13,
   "metadata": {},
   "outputs": [
    {
     "name": "stdout",
     "output_type": "stream",
     "text": [
      "Something is happening before the function is called.\n",
      "Hello!\n",
      "Something is happening after the function is called.\n"
     ]
    }
   ],
   "source": [
    "def my_decorator(func):\n",
    "    def wrapper():\n",
    "        print(\"Something is happening before the function is called.\")\n",
    "        func()\n",
    "        print(\"Something is happening after the function is called.\")\n",
    "    return wrapper\n",
    "\n",
    "@my_decorator\n",
    "def say_hello():\n",
    "    print(\"Hello!\")\n",
    "\n",
    "say_hello()"
   ]
  },
  {
   "cell_type": "markdown",
   "metadata": {},
   "source": [
    "### **Conclusion**:\n",
    "\n",
    "Functions are fundamental to Python programming, providing a way to organize code, make it reusable, and improve readability. Understanding parameter handling, return values, and other aspects of functions is crucial for writing effective and maintainable code."
   ]
  }
 ],
 "metadata": {
  "kernelspec": {
   "display_name": "Python 3",
   "language": "python",
   "name": "python3"
  },
  "language_info": {
   "codemirror_mode": {
    "name": "ipython",
    "version": 3
   },
   "file_extension": ".py",
   "mimetype": "text/x-python",
   "name": "python",
   "nbconvert_exporter": "python",
   "pygments_lexer": "ipython3",
   "version": "3.11.4"
  }
 },
 "nbformat": 4,
 "nbformat_minor": 2
}
