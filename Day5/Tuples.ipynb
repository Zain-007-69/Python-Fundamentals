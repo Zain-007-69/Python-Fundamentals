{
 "cells": [
  {
   "cell_type": "markdown",
   "metadata": {},
   "source": [
    "# Tuples"
   ]
  },
  {
   "cell_type": "markdown",
   "metadata": {},
   "source": [
    "### Creating Tuples:\n",
    "\n",
    "You can create a tuple by enclosing a comma-separated sequence of elements within parentheses.\n",
    "\n",
    "Example:"
   ]
  },
  {
   "cell_type": "code",
   "execution_count": 1,
   "metadata": {},
   "outputs": [],
   "source": [
    "my_tuple = (1, 2, 'apple', 'banana', True)"
   ]
  },
  {
   "cell_type": "markdown",
   "metadata": {},
   "source": [
    "### Accessing Elements:\n",
    "\n",
    "Similar to lists, you can access individual elements in a tuple using indexing. Indexing starts at 0 for the first element.\n",
    "\n",
    "Example:"
   ]
  },
  {
   "cell_type": "code",
   "execution_count": 2,
   "metadata": {},
   "outputs": [
    {
     "name": "stdout",
     "output_type": "stream",
     "text": [
      "1\n",
      "banana\n"
     ]
    }
   ],
   "source": [
    "print(my_tuple[0])  # Output: 1\n",
    "print(my_tuple[3])  # Output: 'banana'"
   ]
  },
  {
   "cell_type": "markdown",
   "metadata": {},
   "source": [
    "### Tuple Packing and Unpacking:\n",
    "\n",
    "Tuple packing is the process of putting values into a tuple, and tuple unpacking is the process of extracting values from a tuple.\n",
    "\n",
    "Example:"
   ]
  },
  {
   "cell_type": "code",
   "execution_count": 3,
   "metadata": {},
   "outputs": [
    {
     "name": "stdout",
     "output_type": "stream",
     "text": [
      "1\n",
      "apple\n",
      "True\n"
     ]
    }
   ],
   "source": [
    "# Tuple packing\n",
    "my_packed_tuple = 1, 'apple', True\n",
    "\n",
    "# Tuple unpacking\n",
    "a, b, c = my_packed_tuple\n",
    "print(a)  # Output: 1\n",
    "print(b)  # Output: 'apple'\n",
    "print(c)  # Output: True"
   ]
  },
  {
   "cell_type": "markdown",
   "metadata": {},
   "source": [
    "### Modifying Tuples:\n",
    "\n",
    "Since tuples are immutable, you cannot modify their elements. Once a tuple is created, you cannot add, remove, or change elements.\n",
    "\n",
    "### Tuple Methods:\n",
    "\n",
    "Tuples have fewer built-in methods compared to lists, given their immutability. However, there are a couple of methods available:\n",
    "\n",
    "`count`: Returns the number of occurrences of a specified value."
   ]
  },
  {
   "cell_type": "code",
   "execution_count": 4,
   "metadata": {},
   "outputs": [],
   "source": [
    "count_apple = my_tuple.count('apple')"
   ]
  },
  {
   "cell_type": "markdown",
   "metadata": {},
   "source": [
    "`index`: Returns the index of the first occurrence of a specified value."
   ]
  },
  {
   "cell_type": "code",
   "execution_count": 5,
   "metadata": {},
   "outputs": [],
   "source": [
    "index_banana = my_tuple.index('banana')"
   ]
  },
  {
   "cell_type": "markdown",
   "metadata": {},
   "source": [
    "### Use Cases for Tuples:\n",
    "\n",
    "#### Data Integrity: \n",
    "Tuples can be used to represent fixed collections of values where the order and types of elements are crucial.\n",
    "\n",
    "#### Function Returns: \n",
    "Functions can return multiple values as a tuple."
   ]
  },
  {
   "cell_type": "code",
   "execution_count": 6,
   "metadata": {},
   "outputs": [],
   "source": [
    "def get_coordinates():\n",
    "    return (10, 20)\n",
    "\n",
    "x, y = get_coordinates()"
   ]
  },
  {
   "cell_type": "markdown",
   "metadata": {},
   "source": [
    "#### Dictionary Keys: \n",
    "Tuples can be used as keys in dictionaries (since they are immutable), especially when representing coordinates."
   ]
  },
  {
   "cell_type": "code",
   "execution_count": 7,
   "metadata": {},
   "outputs": [],
   "source": [
    "coordinates_dict = {(1, 2): 'point A', (3, 4): 'point B'}"
   ]
  },
  {
   "cell_type": "markdown",
   "metadata": {},
   "source": [
    "### Comparing Lists and Tuples:\n",
    "\n",
    "Use lists when you need a collection that can be modified (mutable).\n",
    "\n",
    "Use tuples when you want an immutable, ordered collection, especially for fixed sets of values."
   ]
  }
 ],
 "metadata": {
  "kernelspec": {
   "display_name": "Python 3",
   "language": "python",
   "name": "python3"
  },
  "language_info": {
   "codemirror_mode": {
    "name": "ipython",
    "version": 3
   },
   "file_extension": ".py",
   "mimetype": "text/x-python",
   "name": "python",
   "nbconvert_exporter": "python",
   "pygments_lexer": "ipython3",
   "version": "3.11.4"
  }
 },
 "nbformat": 4,
 "nbformat_minor": 2
}
