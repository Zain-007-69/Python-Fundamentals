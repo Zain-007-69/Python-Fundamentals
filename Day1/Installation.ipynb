{
 "cells": [
  {
   "cell_type": "markdown",
   "metadata": {},
   "source": [
    "Installing Python is a straightforward process, and there are different methods based on your operating system. Here are brief instructions for the most common scenarios:\n",
    "\n",
    "### For Windows:\n",
    "\n",
    "1. **Download Python Installer:**\n",
    "   Visit the official Python website at [python.org](https://www.python.org/), go to the \"Downloads\" section, and choose the latest version of Python for Windows. Download the installer.\n",
    "\n",
    "2. **Run the Installer:**\n",
    "   Open the downloaded installer, check the box that says \"Add Python to PATH\" during installation, and follow the prompts to complete the installation.\n",
    "\n",
    "3. **Verify Installation:**\n",
    "   Open a command prompt and type `python --version` or `python -V` to verify that Python has been installed successfully.\n",
    "\n",
    "### For macOS:\n",
    "\n",
    "1. **Install Homebrew (if not already installed):**\n",
    "   Open Terminal and run the following command to install Homebrew:\n",
    "   ```bash\n",
    "   /bin/bash -c \"$(curl -fsSL https://raw.githubusercontent.com/Homebrew/install/master/install.sh)\"\n",
    "   ```\n",
    "\n",
    "2. **Install Python using Homebrew:**\n",
    "   Run the following command in Terminal to install Python:\n",
    "   ```bash\n",
    "   brew install python\n",
    "   ```\n",
    "\n",
    "3. **Verify Installation:**\n",
    "   Type `python3 --version` in Terminal to verify that Python has been installed successfully.\n",
    "\n",
    "### For Linux (Ubuntu/Debian):\n",
    "\n",
    "1. **Open Terminal:**\n",
    "   Open a terminal window.\n",
    "\n",
    "2. **Update Package List:**\n",
    "   Run the following commands to ensure your package list is up-to-date:\n",
    "   ```bash\n",
    "   sudo apt update\n",
    "   sudo apt upgrade\n",
    "   ```\n",
    "\n",
    "3. **Install Python:**\n",
    "   Run the following command to install Python:\n",
    "   ```bash\n",
    "   sudo apt install python3\n",
    "   ```\n",
    "\n",
    "4. **Verify Installation:**\n",
    "   Type `python3 --version` in the terminal to verify that Python has been installed successfully.\n",
    "\n",
    "These are general instructions, and the exact commands may vary based on your system. Once installed, you can start using Python by running `python` or `python3` in your terminal or command prompt. Additionally, you can use integrated development environments (IDEs) like PyCharm, Visual Studio Code, or Jupyter notebooks for a more user-friendly coding experience."
   ]
  }
 ],
 "metadata": {
  "language_info": {
   "name": "python"
  }
 },
 "nbformat": 4,
 "nbformat_minor": 2
}
